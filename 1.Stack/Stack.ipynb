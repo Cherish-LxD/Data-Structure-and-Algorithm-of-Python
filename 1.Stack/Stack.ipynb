{
 "cells": [
  {
   "cell_type": "code",
   "execution_count": 1,
   "metadata": {},
   "outputs": [],
   "source": [
    "class Stack:\n",
    "    '''\n",
    "    利用列表实现栈\n",
    "    '''\n",
    "    # 初始化栈为空列表\n",
    "    def __init__(self):\n",
    "        self.items = []\n",
    "    \n",
    "    # 入栈\n",
    "    def push(self,item):\n",
    "        self.items.append(item)\n",
    "    \n",
    "    # 出栈\n",
    "    def pop(self):\n",
    "        return self.items.pop()\n",
    "    \n",
    "    # 判断是否为空\n",
    "    def isEmpty(self):\n",
    "        return self.items == []\n",
    "    \n",
    "    # 查看栈顶元素（不出栈）\n",
    "    def peek(self):\n",
    "        return self.items[len(self.items) - 1]\n",
    "    \n",
    "    # 计算栈内元素的数量\n",
    "    def size(self):\n",
    "        return len(self.items)"
   ]
  },
  {
   "cell_type": "code",
   "execution_count": null,
   "metadata": {},
   "outputs": [],
   "source": []
  }
 ],
 "metadata": {
  "kernelspec": {
   "display_name": "Python 3",
   "language": "python",
   "name": "python3"
  },
  "language_info": {
   "codemirror_mode": {
    "name": "ipython",
    "version": 3
   },
   "file_extension": ".py",
   "mimetype": "text/x-python",
   "name": "python",
   "nbconvert_exporter": "python",
   "pygments_lexer": "ipython3",
   "version": "3.7.4"
  }
 },
 "nbformat": 4,
 "nbformat_minor": 2
}

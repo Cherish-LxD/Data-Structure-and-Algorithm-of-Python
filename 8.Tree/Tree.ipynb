{
 "cells": [
  {
   "cell_type": "code",
   "execution_count": 38,
   "metadata": {},
   "outputs": [],
   "source": [
    "import operator"
   ]
  },
  {
   "cell_type": "code",
   "execution_count": 39,
   "metadata": {},
   "outputs": [],
   "source": [
    "class BinaryTree:\n",
    "    '''\n",
    "    利用链表构建树结构\n",
    "    '''\n",
    "    def __init__(self, data):\n",
    "        self.val = data\n",
    "        self.leftChild = None\n",
    "        self.rightChild = None\n",
    "    \n",
    "    def insertLeft(self, newNode):\n",
    "        '''向根插入左子节点'''\n",
    "        if self.leftChild == None:\n",
    "            self.leftChild = BinaryTree(newNode)\n",
    "        else:\n",
    "            t = BinaryTree(newNode)\n",
    "            t.leftChild = self.leftChild\n",
    "            self.leftChild = t\n",
    "    \n",
    "    def insertRight(self, newNode):\n",
    "        '''向根插入右子节点'''\n",
    "        if self.rightChild == None:\n",
    "            self.rightChild = BinaryTree(newNode)\n",
    "        else:\n",
    "            t = BinaryTree(newNode)\n",
    "            t.rightChild = self.rightChild\n",
    "            self.rightChild = t\n",
    "            \n",
    "    def getLeftChild(self):\n",
    "        '''获得左子树'''\n",
    "        return self.leftChild\n",
    "    \n",
    "    def getRightChild(self):\n",
    "        '''获得右子树'''\n",
    "        return self.rightChild\n",
    "    \n",
    "    def getRootVal(self):\n",
    "        '''获得根节点的值'''\n",
    "        return self.val\n",
    "    \n",
    "    def setRootVal(self, obj):\n",
    "        '''修改根节点的值'''\n",
    "        self.val = obj\n",
    "        \n",
    "    def beforeOrder(self):\n",
    "        '''先序遍历'''\n",
    "        print(self.val)\n",
    "        if self.leftChild:\n",
    "            self.beforeOrder(self.leftChild)\n",
    "        if self.rightChild:\n",
    "            self.beforeOrder(self.rightChild)\n",
    "    \n",
    "    def betweenOrder(self):\n",
    "        '''中序遍历'''\n",
    "        if self.leftChild:\n",
    "            self.betweenOrder(self.leftChild)\n",
    "        print(self.val)\n",
    "        if self.rightChild:\n",
    "            self.betweenOrder(self.rightChild)\n",
    "\n",
    "    def afterOrder(self):\n",
    "        '''后序遍历'''\n",
    "        if self.leftChild:\n",
    "            self.afterOrder(self.leftChild)\n",
    "        if self.rightChild:\n",
    "            self.afterOrder(self.rightChild)\n",
    "        print(self.val)"
   ]
  },
  {
   "cell_type": "code",
   "execution_count": 40,
   "metadata": {},
   "outputs": [],
   "source": [
    "###################################### 树的遍历 #########################################"
   ]
  },
  {
   "cell_type": "code",
   "execution_count": 41,
   "metadata": {},
   "outputs": [],
   "source": [
    "def preorder(Tree):\n",
    "    '''\n",
    "    前序遍历，根左右\n",
    "    '''\n",
    "    if Tree != None:\n",
    "        print(Tree.getRootVal())\n",
    "        preorder(Tree.getLeftChild())\n",
    "        preorder(Tree.getRightChild())"
   ]
  },
  {
   "cell_type": "code",
   "execution_count": 42,
   "metadata": {},
   "outputs": [],
   "source": [
    "def inorder(Tree):\n",
    "    '''\n",
    "    中序遍历，左根右\n",
    "    '''\n",
    "    if Tree != None:\n",
    "        inorder(Tree.getLeftChild())\n",
    "        print(Tree.getRootVal())\n",
    "        inorder(Tree.getRightChild())"
   ]
  },
  {
   "cell_type": "code",
   "execution_count": 43,
   "metadata": {},
   "outputs": [],
   "source": [
    "def postorder(Tree):\n",
    "    '''\n",
    "    后序遍历，左右根\n",
    "    '''\n",
    "    if Tree != None:\n",
    "        postorder(Tree.getLeftChild())\n",
    "        postorder(Tree.getRightChild())\n",
    "        print(Tree.getRootVal())"
   ]
  },
  {
   "cell_type": "code",
   "execution_count": null,
   "metadata": {},
   "outputs": [],
   "source": []
  }
 ],
 "metadata": {
  "kernelspec": {
   "display_name": "Python 3",
   "language": "python",
   "name": "python3"
  },
  "language_info": {
   "codemirror_mode": {
    "name": "ipython",
    "version": 3
   },
   "file_extension": ".py",
   "mimetype": "text/x-python",
   "name": "python",
   "nbconvert_exporter": "python",
   "pygments_lexer": "ipython3",
   "version": "3.7.4"
  }
 },
 "nbformat": 4,
 "nbformat_minor": 2
}

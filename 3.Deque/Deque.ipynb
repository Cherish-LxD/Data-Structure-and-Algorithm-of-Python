{
 "cells": [
  {
   "cell_type": "code",
   "execution_count": 7,
   "metadata": {},
   "outputs": [],
   "source": [
    "################################# 双端队列及其应用：回文词判定 ################################"
   ]
  },
  {
   "cell_type": "code",
   "execution_count": 8,
   "metadata": {},
   "outputs": [],
   "source": [
    "class Deque:\n",
    "    '''\n",
    "    定义双端队列的数据结构及相应操作\n",
    "    '''\n",
    "    # 初始化为空列表\n",
    "    def __init__(self):\n",
    "        self.items = []\n",
    "    \n",
    "    # 判断是否为空\n",
    "    def isEmpty(self):\n",
    "        return self.items == []\n",
    "    \n",
    "    # 从队尾入队\n",
    "    def addRear(self,item):\n",
    "        self.items.insert(0,item)\n",
    "    \n",
    "    # 从队首入队\n",
    "    def addFront(self,item):\n",
    "        self.items.append(item)\n",
    "    \n",
    "    # 从队首出队\n",
    "    def removeFront(self):\n",
    "        return self.items.pop()\n",
    "    \n",
    "    # 从队尾出队\n",
    "    def removeRear(self):\n",
    "        return self.items.pop(0)\n",
    "    \n",
    "    # 计算双端队列的大小\n",
    "    def size(self):\n",
    "        return len(self.items)"
   ]
  },
  {
   "cell_type": "code",
   "execution_count": 9,
   "metadata": {},
   "outputs": [],
   "source": [
    "def parChecker(aString):\n",
    "    '''\n",
    "    判断aString是否为回文词\n",
    "    \n",
    "    输入：\n",
    "        aString - 字符串，判断目标\n",
    "        \n",
    "    输出：\n",
    "        isEqual - True/False，判断是否为回文词\n",
    "    '''\n",
    "    checkDeque = Deque()\n",
    "    checkList = []\n",
    "    isEqual = True\n",
    "    \n",
    "    for token in aString:\n",
    "        checkDeque.addRear(token)\n",
    "        \n",
    "    while checkDeque.size() > 1 and isEqual:\n",
    "        first = checkDeque.removeFront()\n",
    "        last = checkDeque.removeRear()\n",
    "        if first != last:\n",
    "            isEqual = False\n",
    "    \n",
    "    return isEqual"
   ]
  },
  {
   "cell_type": "code",
   "execution_count": 10,
   "metadata": {},
   "outputs": [
    {
     "name": "stdout",
     "output_type": "stream",
     "text": [
      "True\n"
     ]
    }
   ],
   "source": [
    "print(parChecker('aradara'))"
   ]
  },
  {
   "cell_type": "code",
   "execution_count": null,
   "metadata": {},
   "outputs": [],
   "source": []
  }
 ],
 "metadata": {
  "kernelspec": {
   "display_name": "Python 3",
   "language": "python",
   "name": "python3"
  },
  "language_info": {
   "codemirror_mode": {
    "name": "ipython",
    "version": 3
   },
   "file_extension": ".py",
   "mimetype": "text/x-python",
   "name": "python",
   "nbconvert_exporter": "python",
   "pygments_lexer": "ipython3",
   "version": "3.7.4"
  }
 },
 "nbformat": 4,
 "nbformat_minor": 2
}

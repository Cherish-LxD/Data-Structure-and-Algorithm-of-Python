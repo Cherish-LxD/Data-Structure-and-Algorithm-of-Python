{
 "cells": [
  {
   "cell_type": "code",
   "execution_count": 31,
   "metadata": {},
   "outputs": [
    {
     "data": {
      "text/plain": [
       "'\\n通过下标，按顺序查找数据项\\n'"
      ]
     },
     "execution_count": 31,
     "metadata": {},
     "output_type": "execute_result"
    }
   ],
   "source": [
    "#################################### 顺序查找：查找无序表和有序表 ####################################\n",
    "'''\n",
    "思想：通过下标，按顺序查找数据项\n",
    "时间复杂度：O(n)\n",
    "'''"
   ]
  },
  {
   "cell_type": "code",
   "execution_count": 32,
   "metadata": {},
   "outputs": [],
   "source": [
    "def searchUnorder(alist, item):\n",
    "    '''\n",
    "    顺序查找无序表，时间复杂度为O（n）\n",
    "    \n",
    "    输入：\n",
    "        alist - 列表，查找的目标列表\n",
    "        item - 实数，查找的数据项\n",
    "        \n",
    "    返回：\n",
    "        found - True/False，是否找到\n",
    "    '''\n",
    "    pos = 0\n",
    "    found = False\n",
    "    \n",
    "    while pos < len(alist) and not found:\n",
    "        if alist[pos] == item:\n",
    "            found = True\n",
    "        else:\n",
    "            pos += 1\n",
    "            \n",
    "    return found"
   ]
  },
  {
   "cell_type": "code",
   "execution_count": 33,
   "metadata": {},
   "outputs": [
    {
     "name": "stdout",
     "output_type": "stream",
     "text": [
      "False\n"
     ]
    }
   ],
   "source": [
    "# 测试\n",
    "print(searchUnorder([1,2,3,4,5,6,7], 8))"
   ]
  },
  {
   "cell_type": "code",
   "execution_count": 35,
   "metadata": {},
   "outputs": [],
   "source": [
    "def searchOrder(alist, item):\n",
    "    '''\n",
    "    顺序查找有序表，时间复杂度为O（n）\n",
    "    \n",
    "    输入：\n",
    "        alist - 有序列表，从小到大，查找的目标列表\n",
    "        item - 实数，查找的数据项\n",
    "        \n",
    "    返回：\n",
    "        found - True/False，是否找到\n",
    "    '''\n",
    "    pos = 0\n",
    "    found = False\n",
    "    stop = False\n",
    "    \n",
    "    while pos < len(alist) and not found and not stop:\n",
    "        if alist[pos] == item:\n",
    "            found = True\n",
    "        else:\n",
    "            if alist[pos] > item:\n",
    "                stop = True\n",
    "            else:\n",
    "                pos += 1\n",
    "    \n",
    "    return found"
   ]
  },
  {
   "cell_type": "code",
   "execution_count": 36,
   "metadata": {},
   "outputs": [
    {
     "name": "stdout",
     "output_type": "stream",
     "text": [
      "True\n"
     ]
    }
   ],
   "source": [
    "# 测试\n",
    "print(searchOrder([1,2,3,4,5,6,7], 1))"
   ]
  },
  {
   "cell_type": "code",
   "execution_count": 37,
   "metadata": {},
   "outputs": [
    {
     "data": {
      "text/plain": [
       "'\\n可用常规算法流程编程，也可用递归算法\\n'"
      ]
     },
     "execution_count": 37,
     "metadata": {},
     "output_type": "execute_result"
    }
   ],
   "source": [
    "######################################### 二分查找：有序表 ##########################################\n",
    "'''\n",
    "思想：针对有序表。每次比较查找值和表的中间项，若不相等，则缩小查找范围，继续进行二分查找。\n",
    "实现：可用常规算法流程编程，也可用递归算法。\n",
    "时间复杂度：O(nlog n)\n",
    "'''"
   ]
  },
  {
   "cell_type": "code",
   "execution_count": 38,
   "metadata": {},
   "outputs": [],
   "source": [
    "def binarySearchUsual(alist, item):\n",
    "    '''\n",
    "    二分查找算法，查找有序表\n",
    "    \n",
    "    输入：\n",
    "        alist - 有序列表，从小到大，查找的目标列表\n",
    "        item - 实数，查找的数据项\n",
    "        \n",
    "    返回：\n",
    "        found - True/False，是否找到\n",
    "    '''\n",
    "    first = 0\n",
    "    last = len(alist) - 1\n",
    "    found = False\n",
    "    \n",
    "    while first <= last and not found:\n",
    "        midPoint = (first + last) // 2\n",
    "        if alist[midPoint] == item:\n",
    "            found = True\n",
    "        else:\n",
    "            if alist[midPoint] > item:\n",
    "                last = midPoint - 1\n",
    "            else:\n",
    "                first = midPoint + 1\n",
    "    \n",
    "    return found"
   ]
  },
  {
   "cell_type": "code",
   "execution_count": 39,
   "metadata": {},
   "outputs": [
    {
     "name": "stdout",
     "output_type": "stream",
     "text": [
      "True\n"
     ]
    }
   ],
   "source": [
    "# 测试\n",
    "print(binarySearchUsual([1,2,13,24,35,36,47], 13))"
   ]
  },
  {
   "cell_type": "code",
   "execution_count": 40,
   "metadata": {},
   "outputs": [],
   "source": [
    "def binarySearchRec(alist, item):\n",
    "    '''\n",
    "    递归算法实现二分查找\n",
    "    \n",
    "    输入：\n",
    "        alist - 有序列表，从小到大，查找的目标列表\n",
    "        item - 实数，查找的数据项\n",
    "        \n",
    "    返回：\n",
    "        found - True/False，是否找到\n",
    "    '''\n",
    "    if len(alist) == 0:\n",
    "        return False\n",
    "    else:\n",
    "        midPoint = len(alist) // 2\n",
    "        if alist[midPoint] == item:\n",
    "            return True\n",
    "        else:\n",
    "            if item < alist[midPoint]:\n",
    "                return binarySearchRec(alist[ : midPoint], item)\n",
    "            else:\n",
    "                return binarySearchRec(alist[midPoint+1 :], item)"
   ]
  },
  {
   "cell_type": "code",
   "execution_count": 41,
   "metadata": {},
   "outputs": [
    {
     "name": "stdout",
     "output_type": "stream",
     "text": [
      "True\n"
     ]
    }
   ],
   "source": [
    "# 测试\n",
    "print(binarySearchRec([1,2,13,24,35,36,47], 13))"
   ]
  },
  {
   "cell_type": "code",
   "execution_count": 42,
   "metadata": {},
   "outputs": [],
   "source": [
    "########################################### 冒泡排序 ###########################################\n",
    "'''\n",
    "思想：若有n个数待排序，则比较n-1趟，在每趟中相邻两元素进行比较，逆序则交换次序。\n",
    "      每趟比较会“浮出”一个最大值或最小值。\n",
    "时间复杂度：O(n^2)\n",
    "'''"
   ]
  },
  {
   "cell_type": "code",
   "execution_count": 43,
   "metadata": {},
   "outputs": [],
   "source": [
    "def bubbleSort(alist):\n",
    "    '''\n",
    "    冒泡排序\n",
    "    \n",
    "    输入：\n",
    "        alist - 待排序的无序表\n",
    "        \n",
    "    输出：\n",
    "        排序后的有序表\n",
    "    '''\n",
    "    # n个数比n-1趟，每趟冒出一个最大值，即每趟将一个最大值移至列表最后\n",
    "    for passnum in range(len(alist) - 1, 0, -1):\n",
    "        for i in range(passnum):\n",
    "            if alist[i] > alist [i+1]:\n",
    "                alist[i], alist[i+1] = alist[i+1], alist[i]\n",
    "    return alist"
   ]
  },
  {
   "cell_type": "code",
   "execution_count": 44,
   "metadata": {},
   "outputs": [
    {
     "name": "stdout",
     "output_type": "stream",
     "text": [
      "[0, 1, 2, 4, 5, 6, 8, 15, 95]\n"
     ]
    }
   ],
   "source": [
    "# 测试\n",
    "print(bubbleSort([15,2,4,1,6,8,5,95,0]))"
   ]
  },
  {
   "cell_type": "code",
   "execution_count": 45,
   "metadata": {},
   "outputs": [],
   "source": [
    "def shortBubbleSort(alist):\n",
    "    '''\n",
    "    冒泡排序的改进 -- 通过判断在每一趟冒泡中是否发生数据交换，来判断排序是否提前完成\n",
    "    \n",
    "    输入：\n",
    "        alist - 待排序的无序表\n",
    "        \n",
    "    输出：\n",
    "        排序后的有序表\n",
    "    '''\n",
    "    exchange = True\n",
    "    passnum = len(alist) - 1\n",
    "    \n",
    "    while passnum > 0 and exchange:\n",
    "        exchange = False\n",
    "        for i in range(passnum):\n",
    "            if alist[i] > alist[i+1]:\n",
    "                exchange = True\n",
    "                alist[i], alist[i+1] = alist[i+1], alist[i]\n",
    "        passnum -= 1\n",
    "    return alist"
   ]
  },
  {
   "cell_type": "code",
   "execution_count": 46,
   "metadata": {},
   "outputs": [
    {
     "name": "stdout",
     "output_type": "stream",
     "text": [
      "[0, 1, 2, 4, 5, 6, 8, 15, 95]\n"
     ]
    }
   ],
   "source": [
    "# 测试\n",
    "print(shortBubbleSort([15,2,4,1,6,8,5,95,0]))"
   ]
  },
  {
   "cell_type": "code",
   "execution_count": 47,
   "metadata": {},
   "outputs": [],
   "source": [
    "########################################### 选择排序 #########################################\n",
    "'''\n",
    "思想：冒泡排序的改进，在每一趟比较中，选择最大或最小的值与未排序的最前面的值进行交换，每一趟比较只进行一次交换。\n",
    "时间复杂度：O(n^2)\n",
    "'''"
   ]
  },
  {
   "cell_type": "code",
   "execution_count": 48,
   "metadata": {},
   "outputs": [],
   "source": [
    "def selectionSort(alist):\n",
    "    '''\n",
    "    选择排序 -- 冒泡排序的改进，每一趟只交换一次\n",
    "    \n",
    "    输入：\n",
    "        alist - 待排序的无序表\n",
    "        \n",
    "    输出：\n",
    "        排序后的有序表\n",
    "    '''\n",
    "    for fillslot in range(len(alist) - 1, 0, -1):\n",
    "        positionOfMax = 0\n",
    "        for location in range(1, fillslot+1):\n",
    "            if alist[location] > alist[positionOfMax]:\n",
    "                positionOfMax = location\n",
    "        alist[positionOfMax], alist[fillslot] = alist[fillslot], alist[positionOfMax]\n",
    "    \n",
    "    return alist"
   ]
  },
  {
   "cell_type": "code",
   "execution_count": 49,
   "metadata": {},
   "outputs": [
    {
     "name": "stdout",
     "output_type": "stream",
     "text": [
      "[0, 1, 2, 4, 5, 6, 8, 15, 95]\n"
     ]
    }
   ],
   "source": [
    "# 测试\n",
    "print(selectionSort([15,2,4,1,6,8,5,95,0]))"
   ]
  },
  {
   "cell_type": "code",
   "execution_count": 50,
   "metadata": {},
   "outputs": [],
   "source": [
    "######################################### 插入排序 #############################################\n",
    "'''\n",
    "思想：维持子列表始终有序。每次从无序的子列表中选出一个数，放在有序子列表内的正确位置处，保证有序子列表始终有序。\n",
    "时间复杂度：O(n^2)\n",
    "'''"
   ]
  },
  {
   "cell_type": "code",
   "execution_count": 51,
   "metadata": {},
   "outputs": [],
   "source": [
    "def insertSort(alist):\n",
    "    '''\n",
    "    插入排序 -- 维持已排序的字列表，每次从无序列表中取出一个数，插入到顺序正确的位置\n",
    "    \n",
    "    输入：\n",
    "        alist - 待排序的无序表\n",
    "        \n",
    "    输出：\n",
    "        排序后的有序表\n",
    "    '''\n",
    "    for index in range(1,len(alist)):\n",
    "        currentValue = alist[index]\n",
    "        position = index\n",
    "        while position > 0 and alist[position - 1] > currentValue:\n",
    "            alist[position] = alist[position - 1]\n",
    "            position -= 1\n",
    "        alist[position] = currentValue\n",
    "    return alist"
   ]
  },
  {
   "cell_type": "code",
   "execution_count": 52,
   "metadata": {},
   "outputs": [
    {
     "name": "stdout",
     "output_type": "stream",
     "text": [
      "[0, 1, 2, 4, 5, 6, 8, 15, 95]\n"
     ]
    }
   ],
   "source": [
    "# 测试\n",
    "print(insertSort([15,2,4,1,6,8,5,95,0]))"
   ]
  },
  {
   "cell_type": "code",
   "execution_count": 53,
   "metadata": {},
   "outputs": [],
   "source": [
    "######################################## 希尔排序 ###########################################\n",
    "'''\n",
    "思想：插入排序的改进。按间隔将列表分为子列表，子列表数与间隔相等，随后对每个子列表进行插入排序。\n",
    "      间隔从n//2开始，每次缩小一半，直至间隔为1。此时子列表就是整个列表，它是近似有序的，进行插入排序时时间复杂度较低。\n",
    "时间复杂度：O(n^1.5)\n",
    "'''"
   ]
  },
  {
   "cell_type": "code",
   "execution_count": 54,
   "metadata": {},
   "outputs": [],
   "source": [
    "def shellSort(alist):\n",
    "    '''\n",
    "    希尔排序 \n",
    "        -- 希尔排序是基于插入排序，先将列表按间隔分为字列表，再对字列表进行插入排序。间隔从n/2、n/4、…，一直减小到1\n",
    "    \n",
    "    输入：\n",
    "        alist - 待排序的列表\n",
    "        \n",
    "    输出：\n",
    "        排序后的列表\n",
    "    '''\n",
    "    # 定义子列表间隔\n",
    "    subListGap = len(alist) // 2\n",
    "    \n",
    "    # 对所有字列表进行插入排序\n",
    "    while subListGap > 0:\n",
    "        # 遍历字列表，字列表的数量 等于 字列表之间的间隔\n",
    "        for startPosition in range(subListGap):\n",
    "            # 调用函数：带间隔的插入排序\n",
    "            gapInsertSort(alist, startPosition, subListGap)\n",
    "        \n",
    "        subListGap = subListGap // 2\n",
    "    return alist       "
   ]
  },
  {
   "cell_type": "code",
   "execution_count": 55,
   "metadata": {},
   "outputs": [],
   "source": [
    "def gapInsertSort(alist, start, gap):\n",
    "    '''\n",
    "    在整个列表alist上，对带间隔的子列表进行插入排序\n",
    "    \n",
    "    输入：\n",
    "        alist - 待排序的原列表\n",
    "        start - 字列表的起始位置\n",
    "        gap - 字列表之间的间隔\n",
    "    \n",
    "    输出：\n",
    "        字列表全部排完序后的列表\n",
    "    '''\n",
    "    # 对起始位置在start处的字列表进行插入排序\n",
    "    for i in range(start + gap, len(alist), gap):\n",
    "        currentValue = alist[i]\n",
    "        position = i\n",
    "        \n",
    "        while position >= gap and currentValue < alist[position - gap]:\n",
    "            alist[position] = alist[position - gap]\n",
    "            position = position - gap\n",
    "        \n",
    "        alist[position] = currentValue\n",
    "    \n",
    "    return alist"
   ]
  },
  {
   "cell_type": "code",
   "execution_count": 56,
   "metadata": {},
   "outputs": [
    {
     "name": "stdout",
     "output_type": "stream",
     "text": [
      "[0, 1, 2, 4, 5, 6, 8, 15, 95]\n"
     ]
    }
   ],
   "source": [
    "# 测试\n",
    "print(shellSort([15,2,4,1,6,8,5,95,0]))"
   ]
  },
  {
   "cell_type": "code",
   "execution_count": 57,
   "metadata": {},
   "outputs": [],
   "source": [
    "##################################### 归并排序 #####################################\n",
    "'''\n",
    "思想：不断将列表分成左半部分和右半部分，直至每一部分只剩一个元素，此时每一部分已排好序。\n",
    "      再进行归并操作，即拉链式的交错归并。\n",
    "过程：1.分裂  2.归并\n",
    "实现：递归算法。\n",
    "'''"
   ]
  },
  {
   "cell_type": "code",
   "execution_count": 68,
   "metadata": {},
   "outputs": [],
   "source": [
    "def mergeSort(alist):\n",
    "    '''\n",
    "    归并排序的传统方法\n",
    "    \n",
    "    输入：\n",
    "        alist - 待排序的列表\n",
    "        \n",
    "    输出：\n",
    "        alist - 排序后的列表\n",
    "    '''\n",
    "    # 停止条件    \n",
    "    if len(alist) > 1:\n",
    "        mid = len(alist) // 2\n",
    "        leftHalf = alist[: mid]\n",
    "        rightHalf = alist[mid :]\n",
    "        # 递归调用本身\n",
    "        mergeSort(leftHalf)\n",
    "        mergeSort(rightHalf)\n",
    "    \n",
    "        # 设定索引i、j、k，分布控制左半部分、右半部分、合成部分的元素索引\n",
    "        i = j = k = 0\n",
    "    \n",
    "        # 拉链式交错，把左半部分和右半部分从小到大归并到结果列表中\n",
    "        while i < len(leftHalf) and j < len(rightHalf):\n",
    "            if leftHalf[i] < rightHalf[j]:\n",
    "                alist[k] = leftHalf[i]\n",
    "                i += 1\n",
    "            else:\n",
    "                alist[k] = rightHalf[j]\n",
    "                j += 1\n",
    "            k += 1\n",
    "    \n",
    "        # 当归并后，右半部分为空，左半部分有剩余\n",
    "        while i < len(leftHalf):\n",
    "            alist[k] = leftHalf[i]\n",
    "            i += 1\n",
    "            k += 1\n",
    "        \n",
    "        # 当归并后，左半部分为空，右半部分有剩余\n",
    "        while j < len(rightHalf):\n",
    "            alist[k] = rightHalf[j]\n",
    "            j += 1\n",
    "            k += 1\n",
    "    \n",
    "    return alist"
   ]
  },
  {
   "cell_type": "code",
   "execution_count": 69,
   "metadata": {},
   "outputs": [
    {
     "name": "stdout",
     "output_type": "stream",
     "text": [
      "[0, 1, 2, 4, 5, 6, 8, 15, 95]\n"
     ]
    }
   ],
   "source": [
    "# 测试\n",
    "print(mergeSort([15,2,4,1,6,8,5,95,0]))"
   ]
  },
  {
   "cell_type": "code",
   "execution_count": 72,
   "metadata": {},
   "outputs": [],
   "source": [
    "def merge_Sort(alist):\n",
    "    '''\n",
    "    归并排序，更具有python风格的归并排序的代码\n",
    "    \n",
    "    输入：\n",
    "        alist - 待排序的列表\n",
    "        \n",
    "    输出：\n",
    "        merged - 排序后的列表\n",
    "    '''\n",
    "    # 停止条件\n",
    "    if len(alist) <= 1:\n",
    "        return alist\n",
    "    \n",
    "    midPosition = len(alist) // 2\n",
    "    leftHalf = merge_Sort(alist[: midPosition])\n",
    "    rightHalf = merge_Sort(alist[midPosition :])\n",
    "\n",
    "    merged = []\n",
    "    while leftHalf and rightHalf:\n",
    "        if leftHalf[0] < rightHalf[0]:\n",
    "            merged.append(leftHalf.pop(0))\n",
    "        else:\n",
    "            merged.append(rightHalf.pop(0))\n",
    "    \n",
    "    merged.extend(rightHalf if rightHalf else leftHalf)\n",
    "    \n",
    "    return merged"
   ]
  },
  {
   "cell_type": "code",
   "execution_count": 73,
   "metadata": {},
   "outputs": [
    {
     "name": "stdout",
     "output_type": "stream",
     "text": [
      "[0, 1, 2, 4, 5, 6, 8, 15, 95]\n"
     ]
    }
   ],
   "source": [
    "# 测试\n",
    "print(merge_Sort([15,2,4,1,6,8,5,95,0]))"
   ]
  },
  {
   "cell_type": "code",
   "execution_count": 84,
   "metadata": {},
   "outputs": [
    {
     "data": {
      "text/plain": [
       "'\\n思想：利用合适的“中值”，将列表分裂为左右两部分，再对左右两部分分别递归调用快速排序算法（递归调用快排算法）\\n实现：1.分裂 2.递归调用\\n'"
      ]
     },
     "execution_count": 84,
     "metadata": {},
     "output_type": "execute_result"
    }
   ],
   "source": [
    "###################################### 快速排序 ######################################\n",
    "'''\n",
    "思想：利用合适的“中值”，将列表分裂为左右两部分，再对左右两部分分别递归调用快速排序算法（递归调用快排算法）\n",
    "实现：1.分裂 2.递归调用\n",
    "关键：“中值”的选取，可用三点采样法\n",
    "'''"
   ]
  },
  {
   "cell_type": "code",
   "execution_count": 119,
   "metadata": {},
   "outputs": [],
   "source": [
    "def quickSort(alist):\n",
    "    '''\n",
    "    快速排序\n",
    "    \n",
    "    输入：\n",
    "        alist - 待排序的列表\n",
    "        \n",
    "    输出：\n",
    "        无\n",
    "        \n",
    "    注释：\n",
    "        此函数中调用 快速排序助手函数，因为快速排序的输入仅是单个列表，而快速排序的递归调用中需要传递快排的范围。\n",
    "    '''\n",
    "    quickSortHelper(alist, 0, len(alist) - 1)"
   ]
  },
  {
   "cell_type": "code",
   "execution_count": 120,
   "metadata": {},
   "outputs": [],
   "source": [
    "def quickSortHelp(alist, first, last):\n",
    "    '''\n",
    "    快速排序助手，对alist在first和last之间的数进行快速排序\n",
    "    \n",
    "    输入：\n",
    "        alist - 待排序的列表\n",
    "        first - 快速排序范围的起始位置\n",
    "        last - 快速排序范围的终止位置\n",
    "        \n",
    "    输出：\n",
    "        无\n",
    "    '''\n",
    "    if first < last:\n",
    "        splitPosition = partition(alist, first, last)\n",
    "        \n",
    "        quickSortHelper(alist, first, splitPosition - 1)\n",
    "        quickSortHelper(alist, splitPosition + 1, last)\n",
    "    return alist"
   ]
  },
  {
   "cell_type": "code",
   "execution_count": 121,
   "metadata": {},
   "outputs": [],
   "source": [
    "def partition(alist, first, last):\n",
    "    '''\n",
    "    根据中值，将列表分裂成大小两部分\n",
    "    \n",
    "    输入：\n",
    "        alist - 待分裂的列表\n",
    "        first - 分裂范围的首位置\n",
    "        last - 分裂范围的尾位置\n",
    "        \n",
    "    输出：\n",
    "        splitPosition - 分裂点\n",
    "    '''\n",
    "    midValue = alist[first]\n",
    "    \n",
    "    # 此步是快排算法的关键。定义左右标记，用于后续值的交换。\n",
    "    leftMark = first + 1\n",
    "    rightMark = last\n",
    "    \n",
    "    # 设置done，记录是否完成本次分裂\n",
    "    done = False\n",
    "    \n",
    "    while not done:\n",
    "        \n",
    "        # 此处是以列表中的第一个数为中值\n",
    "        \n",
    "        # 左标记右移\n",
    "        while leftMark <= rightMark and alist[leftMark] <= midValue:\n",
    "            leftMark += 1\n",
    "            \n",
    "        # 右标记左移\n",
    "        while rightMark >= leftMark and alist[rightMark] >= midValue:\n",
    "            rightMark -= 1\n",
    "            \n",
    "        if leftMark > rightMark:\n",
    "            done = True\n",
    "        else:\n",
    "            alist[rightMark], alist[leftMark] = alist[leftMark], alist[rightMark]\n",
    "            \n",
    "    alist[first], alist[rightMark] = alist[rightMark], alist[first]\n",
    "            \n",
    "    splitPosition = rightMark\n",
    "    \n",
    "    return splitPosition"
   ]
  },
  {
   "cell_type": "code",
   "execution_count": 122,
   "metadata": {},
   "outputs": [
    {
     "data": {
      "text/plain": [
       "[0, 1, 2, 4, 5, 6, 8, 15, 95]"
      ]
     },
     "execution_count": 122,
     "metadata": {},
     "output_type": "execute_result"
    }
   ],
   "source": [
    "# 测试\n",
    "alist = [15,2,4,1,6,8,5,95,0]\n",
    "quickSort(alist)\n",
    "alist"
   ]
  },
  {
   "cell_type": "code",
   "execution_count": null,
   "metadata": {},
   "outputs": [],
   "source": []
  }
 ],
 "metadata": {
  "kernelspec": {
   "display_name": "Python 3",
   "language": "python",
   "name": "python3"
  },
  "language_info": {
   "codemirror_mode": {
    "name": "ipython",
    "version": 3
   },
   "file_extension": ".py",
   "mimetype": "text/x-python",
   "name": "python",
   "nbconvert_exporter": "python",
   "pygments_lexer": "ipython3",
   "version": "3.7.4"
  }
 },
 "nbformat": 4,
 "nbformat_minor": 2
}

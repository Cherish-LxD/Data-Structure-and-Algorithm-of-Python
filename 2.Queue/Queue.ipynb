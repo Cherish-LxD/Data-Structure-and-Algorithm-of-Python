{
 "cells": [
  {
   "cell_type": "code",
   "execution_count": 25,
   "metadata": {},
   "outputs": [],
   "source": [
    "class Queue:\n",
    "    '''\n",
    "    利用列表定义队列及相应操作\n",
    "    '''\n",
    "    # 初始化队列为空列表\n",
    "    def __init__(self):\n",
    "        self.items = []\n",
    "    \n",
    "    # 入队\n",
    "    def enqueue(self,item):\n",
    "        self.items.insert(0,item)\n",
    "      \n",
    "    # 出队\n",
    "    def dequeue(self):\n",
    "        return self.items.pop()\n",
    "    \n",
    "    # 判断是否为空\n",
    "    def isEmpty(self):\n",
    "        return self.items == []\n",
    "    \n",
    "    # 计算队列的长度\n",
    "    def size(self):\n",
    "        return len(self.items)"
   ]
  },
  {
   "cell_type": "code",
   "execution_count": 26,
   "metadata": {},
   "outputs": [],
   "source": [
    "############################## 队列实例：模拟打印机系统的工作模式 ############################"
   ]
  },
  {
   "cell_type": "code",
   "execution_count": 27,
   "metadata": {},
   "outputs": [],
   "source": [
    "class Printer:\n",
    "    def __init__(self,ppm):\n",
    "        self.pagerate = ppm\n",
    "        self.currentTask = None\n",
    "        self.timeRemaining = 0\n",
    "        \n",
    "    def tick(self):                # 打印一秒\n",
    "        if self.currentTask != None:\n",
    "            self.timeRemaining = self.timeRemaining - 1\n",
    "            if self.timeRemaining <= 0:\n",
    "                self.currentTask = None\n",
    "    \n",
    "    def busy(self):                # 判断是否忙\n",
    "        if self.currentTask != None:\n",
    "            return True\n",
    "        else:\n",
    "            return False\n",
    "        \n",
    "    def startNext(self,newtask):   # 开始新任务\n",
    "        self.currentTask = newtask\n",
    "        self.timeRemaining = newtask.getPages() * 60 / self.pagerate"
   ]
  },
  {
   "cell_type": "code",
   "execution_count": 28,
   "metadata": {},
   "outputs": [],
   "source": [
    "class Task:\n",
    "    def __init__(self,time):\n",
    "        self.timestamp = time\n",
    "        self.pages = random.randrange(1,21)\n",
    "        \n",
    "    def getStamp(self):\n",
    "        return self.timestamp\n",
    "    \n",
    "    def getPages(self):\n",
    "        return self.pages\n",
    "    \n",
    "    def waitTime(self,currenttime):\n",
    "        return currenttime - self.timestamp"
   ]
  },
  {
   "cell_type": "code",
   "execution_count": 29,
   "metadata": {},
   "outputs": [],
   "source": [
    "def newPrintTask():\n",
    "    '''\n",
    "    以概率创建新任务\n",
    "    \n",
    "    输入：\n",
    "        无\n",
    "        \n",
    "    输出：\n",
    "        True/False - 是否有新任务被创建\n",
    "    '''\n",
    "    num = random.randrange(1,181)\n",
    "    if num == 180:\n",
    "        return True\n",
    "    else:\n",
    "        return False"
   ]
  },
  {
   "cell_type": "code",
   "execution_count": 30,
   "metadata": {},
   "outputs": [],
   "source": [
    "def simulation(numSeconds, pagesPerMinute):\n",
    "    '''\n",
    "    模拟打印机工作,记录作业平均等待时间\n",
    "    \n",
    "    输入：\n",
    "        numSeconds - 打印机模拟总时间\n",
    "        pagesPerMinute - 打印机打印速度，页/分、\n",
    "        \n",
    "    输出：\n",
    "        aveWait - 平均等待时间\n",
    "    '''\n",
    "    labprinter = Printer(pagesPerMinute)\n",
    "    printQueue = Queue()\n",
    "    waitingtimes = []\n",
    "    \n",
    "    for currentSecond in range(numSeconds):\n",
    "        if newPrintTask():\n",
    "            task = Task(currentSecond)\n",
    "            printQueue.enqueue(task)\n",
    "            \n",
    "        if (not labprinter.busy() and  not printQueue.isEmpty()):\n",
    "            nexttask = printQueue.dequeue()\n",
    "            waitingtimes.append(task.waitTime(currentSecond))\n",
    "            \n",
    "            labprinter.startNext(nexttask)\n",
    "        \n",
    "    print(\"平均等待时间： {}， {}个任务正在等待\".format(np.mean(waitingtimes), printQueue.size()))"
   ]
  },
  {
   "cell_type": "code",
   "execution_count": 31,
   "metadata": {},
   "outputs": [
    {
     "name": "stdout",
     "output_type": "stream",
     "text": [
      "平均等待时间： 0.0， 17个任务正在等待\n",
      "平均等待时间： 0.0， 18个任务正在等待\n",
      "平均等待时间： 0.0， 25个任务正在等待\n",
      "平均等待时间： 0.0， 23个任务正在等待\n",
      "平均等待时间： 0.0， 17个任务正在等待\n",
      "平均等待时间： 0.0， 21个任务正在等待\n",
      "平均等待时间： 0.0， 23个任务正在等待\n",
      "平均等待时间： 0.0， 16个任务正在等待\n",
      "平均等待时间： 0.0， 25个任务正在等待\n",
      "平均等待时间： 0.0， 24个任务正在等待\n"
     ]
    }
   ],
   "source": [
    "# 测试\n",
    "for i in range(10):\n",
    "    simulation(3600,5)"
   ]
  },
  {
   "cell_type": "code",
   "execution_count": null,
   "metadata": {},
   "outputs": [],
   "source": []
  }
 ],
 "metadata": {
  "kernelspec": {
   "display_name": "Python 3",
   "language": "python",
   "name": "python3"
  },
  "language_info": {
   "codemirror_mode": {
    "name": "ipython",
    "version": 3
   },
   "file_extension": ".py",
   "mimetype": "text/x-python",
   "name": "python",
   "nbconvert_exporter": "python",
   "pygments_lexer": "ipython3",
   "version": "3.7.4"
  }
 },
 "nbformat": 4,
 "nbformat_minor": 2
}

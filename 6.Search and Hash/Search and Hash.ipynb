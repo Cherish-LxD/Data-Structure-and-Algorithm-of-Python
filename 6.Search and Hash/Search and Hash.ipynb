{
 "cells": [
  {
   "cell_type": "code",
   "execution_count": 1,
   "metadata": {},
   "outputs": [
    {
     "data": {
      "text/plain": [
       "'\\n思想：通过下标，按顺序查找数据项\\n时间复杂度：O(n)\\n'"
      ]
     },
     "execution_count": 1,
     "metadata": {},
     "output_type": "execute_result"
    }
   ],
   "source": [
    "#################################### 顺序查找：查找无序表和有序表 ####################################\n",
    "'''\n",
    "思想：通过下标，按顺序查找数据项\n",
    "时间复杂度：O(n)\n",
    "'''"
   ]
  },
  {
   "cell_type": "code",
   "execution_count": 2,
   "metadata": {},
   "outputs": [],
   "source": [
    "def searchUnorder(alist, item):\n",
    "    '''\n",
    "    顺序查找无序表，时间复杂度为O（n）\n",
    "    \n",
    "    输入：\n",
    "        alist - 列表，查找的目标列表\n",
    "        item - 实数，查找的数据项\n",
    "        \n",
    "    返回：\n",
    "        found - True/False，是否找到\n",
    "    '''\n",
    "    pos = 0\n",
    "    found = False\n",
    "    \n",
    "    while pos < len(alist) and not found:\n",
    "        if alist[pos] == item:\n",
    "            found = True\n",
    "        else:\n",
    "            pos += 1\n",
    "            \n",
    "    return found"
   ]
  },
  {
   "cell_type": "code",
   "execution_count": 3,
   "metadata": {},
   "outputs": [
    {
     "name": "stdout",
     "output_type": "stream",
     "text": [
      "False\n"
     ]
    }
   ],
   "source": [
    "# 测试\n",
    "print(searchUnorder([1,2,3,4,5,6,7], 8))"
   ]
  },
  {
   "cell_type": "code",
   "execution_count": 4,
   "metadata": {},
   "outputs": [],
   "source": [
    "def searchOrder(alist, item):\n",
    "    '''\n",
    "    顺序查找有序表，时间复杂度为O（n）\n",
    "    \n",
    "    输入：\n",
    "        alist - 有序列表，从小到大，查找的目标列表\n",
    "        item - 实数，查找的数据项\n",
    "        \n",
    "    返回：\n",
    "        found - True/False，是否找到\n",
    "    '''\n",
    "    pos = 0\n",
    "    found = False\n",
    "    stop = False\n",
    "    \n",
    "    while pos < len(alist) and not found and not stop:\n",
    "        if alist[pos] == item:\n",
    "            found = True\n",
    "        else:\n",
    "            if alist[pos] > item:\n",
    "                stop = True\n",
    "            else:\n",
    "                pos += 1\n",
    "    \n",
    "    return found"
   ]
  },
  {
   "cell_type": "code",
   "execution_count": 5,
   "metadata": {},
   "outputs": [
    {
     "name": "stdout",
     "output_type": "stream",
     "text": [
      "True\n"
     ]
    }
   ],
   "source": [
    "# 测试\n",
    "print(searchOrder([1,2,3,4,5,6,7], 1))"
   ]
  },
  {
   "cell_type": "code",
   "execution_count": 6,
   "metadata": {},
   "outputs": [
    {
     "data": {
      "text/plain": [
       "'\\n思想：针对有序表。每次比较查找值和表的中间项，若不相等，则缩小查找范围，继续进行二分查找。\\n实现：可用常规算法流程编程，也可用递归算法。\\n时间复杂度：O(nlog n)\\n'"
      ]
     },
     "execution_count": 6,
     "metadata": {},
     "output_type": "execute_result"
    }
   ],
   "source": [
    "######################################### 二分查找：有序表 ##########################################\n",
    "'''\n",
    "思想：针对有序表。每次比较查找值和表的中间项，若不相等，则缩小查找范围，继续进行二分查找。\n",
    "实现：可用常规算法流程编程，也可用递归算法。\n",
    "时间复杂度：O(nlog n)\n",
    "'''"
   ]
  },
  {
   "cell_type": "code",
   "execution_count": 7,
   "metadata": {},
   "outputs": [],
   "source": [
    "def binarySearchUsual(alist, item):\n",
    "    '''\n",
    "    二分查找算法，查找有序表\n",
    "    \n",
    "    输入：\n",
    "        alist - 有序列表，从小到大，查找的目标列表\n",
    "        item - 实数，查找的数据项\n",
    "        \n",
    "    返回：\n",
    "        found - True/False，是否找到\n",
    "    '''\n",
    "    first = 0\n",
    "    last = len(alist) - 1\n",
    "    found = False\n",
    "    \n",
    "    while first <= last and not found:\n",
    "        midPoint = (first + last) // 2\n",
    "        if alist[midPoint] == item:\n",
    "            found = True\n",
    "        else:\n",
    "            if alist[midPoint] > item:\n",
    "                last = midPoint - 1\n",
    "            else:\n",
    "                first = midPoint + 1\n",
    "    \n",
    "    return found"
   ]
  },
  {
   "cell_type": "code",
   "execution_count": 8,
   "metadata": {},
   "outputs": [
    {
     "name": "stdout",
     "output_type": "stream",
     "text": [
      "True\n"
     ]
    }
   ],
   "source": [
    "# 测试\n",
    "print(binarySearchUsual([1,2,13,24,35,36,47], 13))"
   ]
  },
  {
   "cell_type": "code",
   "execution_count": 9,
   "metadata": {},
   "outputs": [],
   "source": [
    "def binarySearchRec(alist, item):\n",
    "    '''\n",
    "    递归算法实现二分查找\n",
    "    \n",
    "    输入：\n",
    "        alist - 有序列表，从小到大，查找的目标列表\n",
    "        item - 实数，查找的数据项\n",
    "        \n",
    "    返回：\n",
    "        found - True/False，是否找到\n",
    "    '''\n",
    "    if len(alist) == 0:\n",
    "        return False\n",
    "    else:\n",
    "        midPoint = len(alist) // 2\n",
    "        if alist[midPoint] == item:\n",
    "            return True\n",
    "        else:\n",
    "            if item < alist[midPoint]:\n",
    "                return binarySearchRec(alist[ : midPoint], item)\n",
    "            else:\n",
    "                return binarySearchRec(alist[midPoint+1 :], item)"
   ]
  },
  {
   "cell_type": "code",
   "execution_count": 10,
   "metadata": {},
   "outputs": [
    {
     "name": "stdout",
     "output_type": "stream",
     "text": [
      "True\n"
     ]
    }
   ],
   "source": [
    "# 测试\n",
    "print(binarySearchRec([1,2,13,24,35,36,47], 13))"
   ]
  },
  {
   "cell_type": "code",
   "execution_count": 11,
   "metadata": {},
   "outputs": [
    {
     "data": {
      "text/plain": [
       "'\\n散列：\\n    散列是一种数据集，可以通过其存储方式快速对数据项进行定位和查找。\\n    散列中，每个数据项存储的位置成为槽（slot），每个槽有唯一的名称。\\n    可以根据槽的名称--键（key）直接访问在存储空间的数据。\\n\\n散列函数：\\n    实现从数据项到槽名称的转换，即将各个数据项映射到不同的槽中。\\n    因为散列表的长度一般固定，因此不同的数据利用相同的散列函数映射后，得到的散列值的长度相同。\\n    散列函数可以将不同的数据映射到相同长度的数据。说白了，是将数据压缩为固定长度的散列值，类似于数据的“指纹”。\\n\\n散列存在的问题：\\n    冲突问题，即不同的数据项可能映射到同一个槽中。\\n    解决办法：1.开放定址技术。寻找其他空槽存放数据。缺点是影响其他数据项的插入。\\n              2.数据项链。将数据按顺序挂到同一槽中。\\n\\n完美散列函数：\\n    不会导致冲突问题的散列函数。\\n    近似的完美散列函数包括：MD5（128位），SHA-0/SHA-1（20字节），SHA-256（256位），SHA-224（224位），SHA-512（512位），SHA-384（384位）\\n                            其中，括号内为映射后的数据长度，二进制位数。\\n\\n散列函数用途：\\n      1.查找数据项。通过比较散列值，快速查找数据项，时间复杂度O（1），关键问题在于冲突问题的解决。\\n      2.校验数据的一致性。通过比较两个数据的散列值（指纹）是否相同，校验两份数据是否一致。\\n      3.密码加密。通过比较输入密码和正确密码的散列值，判断密码是否正确。\\n      4.……\\n'"
      ]
     },
     "execution_count": 11,
     "metadata": {},
     "output_type": "execute_result"
    }
   ],
   "source": [
    "############################################ 散列 ###############################################\n",
    "'''\n",
    "散列：\n",
    "    散列是一种数据集，可以通过其存储方式快速对数据项进行定位和查找。\n",
    "    散列中，每个数据项存储的位置成为槽（slot），每个槽有唯一的名称。\n",
    "    可以根据槽的名称--键（key）直接访问在存储空间的数据。\n",
    "\n",
    "散列函数：\n",
    "    实现从数据项到槽名称的转换，即将各个数据项映射到不同的槽中。\n",
    "    因为散列表的长度一般固定，因此不同的数据利用相同的散列函数映射后，得到的散列值的长度相同。\n",
    "    散列函数可以将不同的数据映射到相同长度的数据。说白了，是将数据压缩为固定长度的散列值，类似于数据的“指纹”。\n",
    "\n",
    "散列存在的问题：\n",
    "    冲突问题，即不同的数据项可能映射到同一个槽中。\n",
    "    解决办法：1.开放定址技术。寻找其他空槽存放数据。缺点是影响其他数据项的插入。\n",
    "              2.数据项链。将数据按顺序挂到同一槽中。\n",
    "\n",
    "完美散列函数：\n",
    "    不会导致冲突问题的散列函数。\n",
    "    近似的完美散列函数包括：MD5（128位），SHA-0/SHA-1（20字节），SHA-256（256位），SHA-224（224位），SHA-512（512位），SHA-384（384位）\n",
    "                            其中，括号内为映射后的数据长度，二进制位数。\n",
    "\n",
    "散列函数用途：\n",
    "      1.查找数据项。通过比较散列值，快速查找数据项，时间复杂度O（1），关键问题在于冲突问题的解决。\n",
    "      2.校验数据的一致性。通过比较两个数据的散列值（指纹）是否相同，校验两份数据是否一致。\n",
    "      3.密码加密。通过比较输入密码和正确密码的散列值，判断密码是否正确。\n",
    "      4.……\n",
    "'''"
   ]
  },
  {
   "cell_type": "code",
   "execution_count": 12,
   "metadata": {},
   "outputs": [
    {
     "name": "stdout",
     "output_type": "stream",
     "text": [
      "fc3ff98e8c6a0d3087d515c0473f8677\n",
      "fc3ff98e8c6a0d3087d515c0473f8677\n"
     ]
    }
   ],
   "source": [
    "# 引入Python中的散列函数模块\n",
    "import hashlib\n",
    "\n",
    "# 例1，以16进制形式输出\"hello world!\"的md5散列值\n",
    "print(hashlib.md5(\"hello world!\".encode(\"utf-8\")).hexdigest())  # 注意，.encode(\"utf-8\")指定编码格式\n",
    "\n",
    "# 例2，可用update（）对任意长的数据部分进行计算\n",
    "m = hashlib.md5()\n",
    "m.update(\"hello world!\".encode(\"utf-8\"))\n",
    "print(m.hexdigest())"
   ]
  },
  {
   "cell_type": "code",
   "execution_count": 15,
   "metadata": {},
   "outputs": [
    {
     "data": {
      "text/plain": [
       "'\\n映射的结构：键-值关联的无序集合，即Python中的字典。\\n实现：此处利用散列表实现映射的数据结构，可以快速查找目标数据项。\\n'"
      ]
     },
     "execution_count": 15,
     "metadata": {},
     "output_type": "execute_result"
    }
   ],
   "source": [
    "############################################### 映射 ##################################################\n",
    "'''\n",
    "映射的结构：键-值关联的无序集合，即Python中的字典。\n",
    "实现：此处利用散列表实现映射的数据结构，可以快速查找目标数据项。\n",
    "'''"
   ]
  },
  {
   "cell_type": "code",
   "execution_count": 16,
   "metadata": {},
   "outputs": [],
   "source": [
    "class HashTable:\n",
    "    '''利用散列表（哈希表）实现映射'''\n",
    "    # 初始化，slots列表存放槽名称（key），data列表存放数据项，两个列表的相应位置一一对应。\n",
    "    def __init__(self):\n",
    "        self.size = 11\n",
    "        self.slots = [None] * self.size\n",
    "        self.data = [None] * self.size\n",
    "    \n",
    "    # 求余法实现散列函数\n",
    "    def hashFunction(self, key):\n",
    "        return key % self.size\n",
    "    \n",
    "    # 散列冲突时，再散列，用其他空槽存储数据\n",
    "    def rehash(self, oldhash):\n",
    "        return (oldhash + 1) % self.size\n",
    "    \n",
    "    # 存放数据项和槽名称。\n",
    "    def put(self, key, data):\n",
    "        hashValue = self.hashFunction(key)\n",
    "        \n",
    "        # 若key不存在，无冲突\n",
    "        if self.slots[hashValue] == None:\n",
    "            self.slots[hashValue] = key\n",
    "            self.data[hashValue] = data\n",
    "        else:\n",
    "            # 若key存在,则修改数据\n",
    "            if self.slots == key:\n",
    "                self.data[hashValue] = data\n",
    "            else:\n",
    "                # 散列冲突，再散列，直到找到空槽或key。\n",
    "                nextSlot = self.rehash(hashValue)\n",
    "                while self.slots[nextSlot] != None and self.slots[nextSlot] != key:\n",
    "                    nextSlot = self.rehash(nextSlot)\n",
    "                # 若是空槽\n",
    "                if self.slots[nextSlot] == None:\n",
    "                    self.slots[nextSlot] = key\n",
    "                    self.data[nextSlot] = data\n",
    "                else:\n",
    "                    self.data[nextSlot] = data \n",
    "    \n",
    "    # 获取指定槽（key）的数据\n",
    "    def get(self, key):\n",
    "        startSlot = self.hashFunction(key)\n",
    "        \n",
    "        data = None\n",
    "        stop = False\n",
    "        found = False\n",
    "        position = startSlot\n",
    "        while self.slots[position] != None and not found and not stop:\n",
    "            if self.slots[position] == key:\n",
    "                found = True\n",
    "                data = self.data[position]\n",
    "            else:\n",
    "                position = self.rehash(position)\n",
    "                if position == startSlot:\n",
    "                    stop = True\n",
    "        return data\n",
    "                    \n",
    "    # 特殊方法实现[]访问\n",
    "    def __getitem__(self, key):\n",
    "        return self.get(key)\n",
    "    \n",
    "    def __setitem__(self, key, data):\n",
    "        self.put(key,data)"
   ]
  },
  {
   "cell_type": "code",
   "execution_count": null,
   "metadata": {},
   "outputs": [],
   "source": []
  }
 ],
 "metadata": {
  "kernelspec": {
   "display_name": "Python 3",
   "language": "python",
   "name": "python3"
  },
  "language_info": {
   "codemirror_mode": {
    "name": "ipython",
    "version": 3
   },
   "file_extension": ".py",
   "mimetype": "text/x-python",
   "name": "python",
   "nbconvert_exporter": "python",
   "pygments_lexer": "ipython3",
   "version": "3.7.4"
  }
 },
 "nbformat": 4,
 "nbformat_minor": 2
}

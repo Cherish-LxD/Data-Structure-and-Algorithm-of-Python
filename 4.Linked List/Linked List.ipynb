{
 "cells": [
  {
   "cell_type": "code",
   "execution_count": 18,
   "metadata": {},
   "outputs": [],
   "source": [
    "class Node:\n",
    "    '''\n",
    "    创建节点，包含数据项和指针\n",
    "    '''\n",
    "    # 初始化节点，数据项为设定值，指针指向None\n",
    "    def __init__(self,initdata):\n",
    "        self.data = initdata\n",
    "        self.next = None\n",
    "    \n",
    "    # 获得节点的数据项的值\n",
    "    def getData(self):\n",
    "        return self.data\n",
    "    \n",
    "    # 获得节点的指针指向\n",
    "    def getNext(self):\n",
    "        return self.next\n",
    "    \n",
    "    # 修改节点的数据项的值\n",
    "    def setData(self,newdata):\n",
    "        self.data = newdata\n",
    "    \n",
    "    # 修改节点的指针指向\n",
    "    def setNext(self, newnext):\n",
    "        self.next = newnext"
   ]
  },
  {
   "cell_type": "code",
   "execution_count": 19,
   "metadata": {},
   "outputs": [],
   "source": [
    "class UnorderedList:\n",
    "    '''链表实现无序表'''\n",
    "    # 头指针初始化为None\n",
    "    def __init__(self):\n",
    "        self.head = None\n",
    "    \n",
    "    # 判断链表是否为空\n",
    "    def isEmpty(self):\n",
    "        return self.head == None\n",
    "    \n",
    "    # 链表中添加元素\n",
    "    def add(self,item):\n",
    "        temp = Node(item)\n",
    "        temp.setNext(self.head)\n",
    "        self.head = temp\n",
    "    \n",
    "    # 计算链表的长度\n",
    "    def size(self):\n",
    "        count = 0\n",
    "        current = self.head\n",
    "        while current != None:\n",
    "            count += 1\n",
    "            current = current.getNext()\n",
    "        return count\n",
    "    \n",
    "    # 寻找链表中的数据项\n",
    "    def search(self,item):\n",
    "        current = self.head\n",
    "        found = False\n",
    "        while current != None and not found:\n",
    "            if current.getData() == item:\n",
    "                found = True\n",
    "            else:\n",
    "                current = current.getNext()\n",
    "        return found\n",
    "    \n",
    "    # 移除链表中的指定项\n",
    "    def remove(self,item):\n",
    "        current = self.head\n",
    "        previous = None\n",
    "        \n",
    "        found = False\n",
    "        \n",
    "        while current != None and not found :\n",
    "            if current.getData() == item:\n",
    "                found = True\n",
    "            else:\n",
    "                previous = current\n",
    "                current = current.getNext()\n",
    "        \n",
    "        if previous == None:\n",
    "            self.head = current.getNext()\n",
    "        else:\n",
    "            previous.setNext(current.getNext())"
   ]
  },
  {
   "cell_type": "code",
   "execution_count": 22,
   "metadata": {},
   "outputs": [
    {
     "name": "stdout",
     "output_type": "stream",
     "text": [
      "False\n",
      "True\n"
     ]
    }
   ],
   "source": [
    "# 测试\n",
    "temp = UnorderedList()\n",
    "temp.add(3)\n",
    "temp.add(4)\n",
    "temp.add(5)\n",
    "print(temp.isEmpty())\n",
    "temp.remove(3)\n",
    "temp.remove(4)\n",
    "temp.remove(5)\n",
    "print(temp.isEmpty())"
   ]
  },
  {
   "cell_type": "code",
   "execution_count": null,
   "metadata": {},
   "outputs": [],
   "source": []
  }
 ],
 "metadata": {
  "kernelspec": {
   "display_name": "Python 3",
   "language": "python",
   "name": "python3"
  },
  "language_info": {
   "codemirror_mode": {
    "name": "ipython",
    "version": 3
   },
   "file_extension": ".py",
   "mimetype": "text/x-python",
   "name": "python",
   "nbconvert_exporter": "python",
   "pygments_lexer": "ipython3",
   "version": "3.7.4"
  }
 },
 "nbformat": 4,
 "nbformat_minor": 2
}
